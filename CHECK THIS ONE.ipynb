{
 "cells": [
  {
   "cell_type": "markdown",
   "metadata": {
    "id": "09G0-vjfqv-_"
   },
   "source": [
    "Click <a href='https://www.dataquest.io/blog/web-scraping-tutorial-python/'>here</a> to learn about Regular Expressions (RegEx) using Python."
   ]
  },
  {
   "cell_type": "code",
   "execution_count": 1,
   "metadata": {
    "id": "XnNKbcLdqv_M"
   },
   "outputs": [
    {
     "ename": "SyntaxError",
     "evalue": "invalid syntax (<ipython-input-1-70bfe20273b0>, line 5)",
     "output_type": "error",
     "traceback": [
      "\u001b[1;36m  File \u001b[1;32m\"<ipython-input-1-70bfe20273b0>\"\u001b[1;36m, line \u001b[1;32m5\u001b[0m\n\u001b[1;33m    a, X, 9, < -- ordinary characters just match themselves exactly.\u001b[0m\n\u001b[1;37m             ^\u001b[0m\n\u001b[1;31mSyntaxError\u001b[0m\u001b[1;31m:\u001b[0m invalid syntax\n"
     ]
    }
   ],
   "source": [
    "########################\n",
    "# DO NOT RUN THIS CELL #\n",
    "########################\n",
    "\n",
    "a, X, 9, < -- ordinary characters just match themselves exactly.\n",
    ". (a period) -- matches any single character except newline '\\n'\n",
    "\\w -- matches a \"word\" character: a letter or digit or underbar [a-zA-Z0-9_].\n",
    "\\W -- matches any non-word character.\n",
    "\\b -- matches word boundary (in between a word character and a non word character)\n",
    "\\s -- matches a single whitespace character -- space, newline, return, tab\n",
    "\\S -- matches any non-whitespace character.\n",
    "\\t, \\n, \\r -- tab, newline, return\n",
    "\\d -- matches any numeric digit [0-9]\n",
    "\\D matches any non-numeric character.\n",
    "^ -- matches the beginning of the string, or specify omition of certain characters\n",
    "$ -- matches the end of the string\n",
    "\\ -- escapes special character.\n",
    "(x|y|z) matches exactly one of x, y or z.\n",
    "(x) in general is a remembered group. We can get the value of what matched by using the groups() method of the object returned by re.search.\n",
    "x? matches an optional x character (in other words, it matches an x zero or one times).\n",
    "x* matches x zero or more times.\n",
    "x+ matches x one or more times.\n",
    "x{m,n} matches an x character at least m times, but not more than n times.\n",
    "?: matches an expression but do not capture it. Non capturing group.\n",
    "?= matches a suffix but exclude it from capture. Positive lookahead.\n",
    "a(?=b) will match the \"a\" in \"ab\", but not the \"a\" in \"ac\"\n",
    "In other words, a(?=b) matches the \"a\" which is followed by the string 'b', without consuming what follows the a.\n",
    "?! matches if suffix is absent. Negative look ahead.\n",
    "a(?!b) will match the \"a\" in \"ac\", but not the \"a\" in \"ab\"\n",
    "?<= positive look behind\n",
    "[] matches for groupings of consecutive characters\n",
    "?<! negative look behind\n",
    "\n",
    "########################\n",
    "# DO NOT RUN THIS CELL #\n",
    "########################"
   ]
  },
  {
   "cell_type": "markdown",
   "metadata": {
    "id": "aQbvpMJKqv_O"
   },
   "source": [
    "What are word boundaries?\n",
    "--------------------------------------------------\n",
    "Before the first character in the string, if the first character is a word character.<br>\n",
    "After the last character in the string, if the last character is a word character.<br>\n",
    "Between two characters in the string, where one is a word character and the other is not a word character<br>"
   ]
  },
  {
   "cell_type": "code",
   "execution_count": 43,
   "metadata": {
    "id": "peZsLyEVqv_O"
   },
   "outputs": [],
   "source": [
    "import re\n",
    "\n",
    "# open a new data stream into a file\n",
    "file = open('./names.txt', encoding='utf-8')\n",
    "\n",
    "# read the text of the file and store it as data\n",
    "data = file.read()\n",
    "\n",
    "# always close the data stream\n",
    "file.close()"
   ]
  },
  {
   "cell_type": "code",
   "execution_count": 44,
   "metadata": {
    "id": "ivoXNTnyqv_P",
    "scrolled": true
   },
   "outputs": [
    {
     "data": {
      "text/plain": [
       "<re.Match object; span=(0, 7), match='Hawkins'>"
      ]
     },
     "execution_count": 44,
     "metadata": {},
     "output_type": "execute_result"
    }
   ],
   "source": [
    "# .match() - Checks for specific strings starting from the beginning of a string\n",
    "re.match(r'Hawkins', data)"
   ]
  },
  {
   "cell_type": "code",
   "execution_count": 45,
   "metadata": {},
   "outputs": [],
   "source": [
    "re.match(r'Johnson', data)"
   ]
  },
  {
   "cell_type": "code",
   "execution_count": 46,
   "metadata": {
    "id": "WcUg8wC0qv_Q"
   },
   "outputs": [
    {
     "data": {
      "text/plain": [
       "<re.Match object; span=(169, 176), match='Johnson'>"
      ]
     },
     "execution_count": 46,
     "metadata": {},
     "output_type": "execute_result"
    }
   ],
   "source": [
    "# .search() - Looks for FIRST matching string anywhere in the searchable text string\n",
    "re.search(r'Johnson', data)"
   ]
  },
  {
   "cell_type": "code",
   "execution_count": 47,
   "metadata": {
    "id": "4tvQcrJyqv_X"
   },
   "outputs": [
    {
     "data": {
      "text/plain": [
       "<re.Match object; span=(6, 10), match='s, D'>"
      ]
     },
     "execution_count": 47,
     "metadata": {},
     "output_type": "execute_result"
    }
   ],
   "source": [
    "re.search(r'\\w, \\w', data)"
   ]
  },
  {
   "cell_type": "code",
   "execution_count": 48,
   "metadata": {
    "scrolled": true
   },
   "outputs": [
    {
     "data": {
      "text/plain": [
       "<re.Match object; span=(0, 14), match='Hawkins, Derek'>"
      ]
     },
     "execution_count": 48,
     "metadata": {},
     "output_type": "execute_result"
    }
   ],
   "source": [
    "re.search(r'\\w\\w\\w\\w\\w\\w\\w, \\w\\w\\w\\w\\w', data)"
   ]
  },
  {
   "cell_type": "code",
   "execution_count": 49,
   "metadata": {
    "scrolled": true
   },
   "outputs": [
    {
     "data": {
      "text/plain": [
       "<re.Match object; span=(0, 14), match='Hawkins, Derek'>"
      ]
     },
     "execution_count": 49,
     "metadata": {},
     "output_type": "execute_result"
    }
   ],
   "source": [
    "re.search(r'\\w{7}, \\w{5}', data)"
   ]
  },
  {
   "cell_type": "code",
   "execution_count": 50,
   "metadata": {},
   "outputs": [
    {
     "data": {
      "text/plain": [
       "<re.Match object; span=(613, 625), match='555 555-5551'>"
      ]
     },
     "execution_count": 50,
     "metadata": {},
     "output_type": "execute_result"
    }
   ],
   "source": [
    "re.search(r'(\\d\\d\\d) \\d\\d\\d-\\d\\d\\d\\d', data)"
   ]
  },
  {
   "cell_type": "code",
   "execution_count": 51,
   "metadata": {
    "scrolled": true
   },
   "outputs": [
    {
     "data": {
      "text/plain": [
       "<re.Match object; span=(38, 52), match='(555) 555-5555'>"
      ]
     },
     "execution_count": 51,
     "metadata": {},
     "output_type": "execute_result"
    }
   ],
   "source": [
    "re.search(r'\\(\\d\\d\\d\\) \\d\\d\\d-\\d\\d\\d\\d', data)"
   ]
  },
  {
   "cell_type": "code",
   "execution_count": 52,
   "metadata": {},
   "outputs": [
    {
     "data": {
      "text/plain": [
       "'rrrrr'"
      ]
     },
     "execution_count": 52,
     "metadata": {},
     "output_type": "execute_result"
    }
   ],
   "source": [
    "'r' * 5"
   ]
  },
  {
   "cell_type": "markdown",
   "metadata": {
    "id": "_jhz8AUKqv_X"
   },
   "source": [
    "<strong>Exercise 1</strong>:<br>\n",
    "Write a function that checks for n number of consecutive digits and returns the match"
   ]
  },
  {
   "cell_type": "code",
   "execution_count": 53,
   "metadata": {
    "id": "yZlrEcPOqv_Y"
   },
   "outputs": [
    {
     "data": {
      "text/plain": [
       "<re.Match object; span=(48, 52), match='5555'>"
      ]
     },
     "execution_count": 53,
     "metadata": {},
     "output_type": "execute_result"
    }
   ],
   "source": [
    "def find_digits(n, searchable_text):\n",
    "    return re.search(r'\\d'*n, searchable_text)\n",
    "\n",
    "find_digits(4, data)"
   ]
  },
  {
   "cell_type": "code",
   "execution_count": 54,
   "metadata": {
    "id": "8l7ImT9Mqv_Y"
   },
   "outputs": [],
   "source": [
    "# find(4, data) => <re.Match object; span=(XX, XX), match='5555'>"
   ]
  },
  {
   "cell_type": "code",
   "execution_count": null,
   "metadata": {
    "id": "rbSqTUSSqv_Y",
    "scrolled": true
   },
   "outputs": [],
   "source": []
  },
  {
   "cell_type": "code",
   "execution_count": null,
   "metadata": {
    "id": "y2j-5IYrqv_Y"
   },
   "outputs": [],
   "source": []
  },
  {
   "cell_type": "code",
   "execution_count": 55,
   "metadata": {
    "id": "W7nx1V4lqv_Z",
    "scrolled": true
   },
   "outputs": [
    {
     "data": {
      "text/plain": [
       "['(555) 555-5555', '(555) 555-5555', '(555) 555-5555']"
      ]
     },
     "execution_count": 55,
     "metadata": {},
     "output_type": "execute_result"
    }
   ],
   "source": [
    "# .findall() - Looks for matching string anywhere in the searchable text string and stores each instance into a list\n",
    "phone_numbers = \"(555) 555-5555 (555) 555-5555 (555) 555-5555 555 555-5555 555 555-5555 555-555-5555 555-555-5555 555-555-5555 555-555-5555 555-555-5555\"\n",
    "re.findall(r'\\(\\d\\d\\d\\) \\d\\d\\d-\\d\\d\\d\\d', phone_numbers)"
   ]
  },
  {
   "cell_type": "code",
   "execution_count": 56,
   "metadata": {
    "id": "dxvMzhYoqv_Z"
   },
   "outputs": [
    {
     "data": {
      "text/plain": [
       "['(555) 555-5555', '(555) 555-5555', '(555) 555-5555']"
      ]
     },
     "execution_count": 56,
     "metadata": {},
     "output_type": "execute_result"
    }
   ],
   "source": [
    "# find numbers with parans\n",
    "re.findall(r'\\(\\d{3}\\) \\d{3}-\\d{4}', phone_numbers)"
   ]
  },
  {
   "cell_type": "code",
   "execution_count": 57,
   "metadata": {
    "id": "-_R3XAAoqv_Z"
   },
   "outputs": [
    {
     "data": {
      "text/plain": [
       "['(555) 555-5555',\n",
       " '(555) 555-5555',\n",
       " '(555) 555-5555',\n",
       " '555 555-5555',\n",
       " '555 555-5555']"
      ]
     },
     "execution_count": 57,
     "metadata": {},
     "output_type": "execute_result"
    }
   ],
   "source": [
    "# also find numbers with/without parans\n",
    "re.findall(r'\\(?\\d{3}\\)? \\d{3}-\\d{4}', phone_numbers)"
   ]
  },
  {
   "cell_type": "code",
   "execution_count": 58,
   "metadata": {
    "id": "K8MrS5T7qv_a",
    "scrolled": true
   },
   "outputs": [
    {
     "data": {
      "text/plain": [
       "['(555) 555-5555',\n",
       " '(555) 555-5555',\n",
       " '(555) 555-5555',\n",
       " '555 555-5555',\n",
       " '555 555-5555',\n",
       " '555-555-5555',\n",
       " '555-555-5555',\n",
       " '555-555-5555',\n",
       " '555-555-5555',\n",
       " '555-555-5555']"
      ]
     },
     "execution_count": 58,
     "metadata": {},
     "output_type": "execute_result"
    }
   ],
   "source": [
    "# also find numbers without parans, with hyphens\n",
    "re.findall(r'\\(?\\d{3}\\)?\\s?-?\\d{3}-\\d{4}', phone_numbers)"
   ]
  },
  {
   "cell_type": "code",
   "execution_count": 59,
   "metadata": {
    "id": "4WEZJJlRqv_b",
    "scrolled": true
   },
   "outputs": [
    {
     "data": {
      "text/plain": [
       "['(555) 555-5555',\n",
       " '(555) 555-5554',\n",
       " '(555) 555-5543',\n",
       " '555-555-5552',\n",
       " '555 555-5551',\n",
       " '(555) 555-5553',\n",
       " '(555) 555-4444']"
      ]
     },
     "execution_count": 59,
     "metadata": {},
     "output_type": "execute_result"
    }
   ],
   "source": [
    "re.findall(r'\\(?\\d{3}\\)?\\s?-?\\d{3}-\\d{4}', data)"
   ]
  },
  {
   "cell_type": "code",
   "execution_count": 60,
   "metadata": {
    "scrolled": true
   },
   "outputs": [
    {
     "data": {
      "text/plain": [
       "['Hawkins, Derek',\n",
       " 'Teacher, Coding',\n",
       " 'Milliken, Connor',\n",
       " 'Teacher, Coding',\n",
       " 'Johnson, Joe',\n",
       " 'Carter, Joel',\n",
       " 'Österberg, Sven',\n",
       " 'Governor, Norrbotten',\n",
       " 'Enchanter, Killer',\n",
       " 'Butz, Ryan',\n",
       " 'CEO, Coding',\n",
       " 'Doctor, The',\n",
       " 'Lord, Gallifrey',\n",
       " 'Exampleson, Example',\n",
       " 'Example, Example',\n",
       " 'Obama, Barack',\n",
       " 'President, United',\n",
       " 'Patel, Ripal',\n",
       " 'Teacher, Coding',\n",
       " 'Vader, Darth',\n",
       " 'Lord, Galactic',\n",
       " 'Sanz, María',\n",
       " 'Minister, Spanish']"
      ]
     },
     "execution_count": 60,
     "metadata": {},
     "output_type": "execute_result"
    }
   ],
   "source": [
    "# Search for names\n",
    "re.findall(r'\\w+, \\w+', data)"
   ]
  },
  {
   "cell_type": "code",
   "execution_count": 61,
   "metadata": {},
   "outputs": [
    {
     "data": {
      "text/plain": [
       "['derek@codingtemple.com',\n",
       " 'connor@codingtemple.com',\n",
       " 'joejohnson@codingtemple.com',\n",
       " 'governor@norrbotten.co.se',\n",
       " 'tim@killerrabbit.com',\n",
       " 'ryanb@codingtemple.com',\n",
       " 'doctor+companion@tardis.co.uk',\n",
       " 'me@example.com',\n",
       " 'president.44@us.gov',\n",
       " 'ripalp@codingtemple.com',\n",
       " 'vader@empire.gov',\n",
       " 'mtfvs@spain.gov']"
      ]
     },
     "execution_count": 61,
     "metadata": {},
     "output_type": "execute_result"
    }
   ],
   "source": [
    "# Search for emails\n",
    "re.findall(r'[\\d\\w\\'-+.]+@[-.\\w\\d]+', data)"
   ]
  },
  {
   "cell_type": "code",
   "execution_count": 62,
   "metadata": {
    "id": "QKvYNCRQqv_c"
   },
   "outputs": [
    {
     "data": {
      "text/plain": [
       "['@codingtemple.com',\n",
       " '@codingtemple.com',\n",
       " '@codingtemple.gov',\n",
       " '@codingtemple.com',\n",
       " '@codingtemple.com']"
      ]
     },
     "execution_count": 62,
     "metadata": {},
     "output_type": "execute_result"
    }
   ],
   "source": [
    "# re.VERBOSE/re.X - Allows multiline regular expressions\n",
    "# re.IGNORECASE/re.I - Ignores casing\n",
    "information = \"\"\"\n",
    "Patel, Ripal: ripalp@codingtemple.com : 555 555-5555\n",
    "Carter, Joel: joelc@codingtemple.com : (555) 555-5555\n",
    "Butz, Ryan: ryanb@codingtemple.gov : (555) 555-5555\n",
    "Stanton, Brain: brians@codingtemple.com : 555-555-5555\n",
    "Davitt, Sam: samd@codingtemple.com : (555) 555-5555\n",
    "\"\"\"\n",
    "re.findall(r'''\n",
    "    @[-.\\w\\d]+ # @symbol, any numbers of characters/digits\n",
    "''', information, re.X|re.I)"
   ]
  },
  {
   "cell_type": "code",
   "execution_count": 63,
   "metadata": {
    "id": "jffQg8ayqv_d"
   },
   "outputs": [],
   "source": [
    "info = re.findall(r'''\n",
    "    ([\\w]+,\\s[\\w]+) # last, first\n",
    "    (:\\s[\\d\\w\\'-+.]+@[-.\\w\\d]+) # email\n",
    "    (\\s:\\s\\(?\\d{3}\\)?\\s?-?\\d{3}-\\d{4}) # phone\n",
    "''', information, re.X)"
   ]
  },
  {
   "cell_type": "code",
   "execution_count": 64,
   "metadata": {
    "id": "_kcAC25nqv_f",
    "scrolled": true
   },
   "outputs": [
    {
     "name": "stdout",
     "output_type": "stream",
     "text": [
      "Patel, Ripal\n",
      "ripalp@codingtemple.com\n",
      "555 555-5555\n",
      "\n",
      "Carter, Joel\n",
      "joelc@codingtemple.com\n",
      "(555) 555-5555\n",
      "\n",
      "Butz, Ryan\n",
      "ryanb@codingtemple.gov\n",
      "(555) 555-5555\n",
      "\n",
      "Stanton, Brain\n",
      "brians@codingtemple.com\n",
      "555-555-5555\n",
      "\n",
      "Davitt, Sam\n",
      "samd@codingtemple.com\n",
      "(555) 555-5555\n",
      "\n"
     ]
    }
   ],
   "source": [
    "info_list = []\n",
    "for i in info:\n",
    "    obj_data = {\n",
    "        'name': i[0],\n",
    "        'email': i[1][2:],\n",
    "        'phone': i[2][3:]\n",
    "    }\n",
    "    info_list.append(obj_data)\n",
    "\n",
    "for i in info_list:\n",
    "    print(i['name'])\n",
    "    print(i['email'])\n",
    "    print(i['phone'])\n",
    "    print()"
   ]
  },
  {
   "cell_type": "code",
   "execution_count": 65,
   "metadata": {},
   "outputs": [],
   "source": [
    "info = re.compile(r'''\n",
    "    (?P<name>[\\w]+,\\s[\\w]+)                     # last, first\n",
    "    (?P<email>:\\s[\\d\\w\\'-+.]+@[-.\\w\\d]+)        # email\n",
    "    (?P<phone>\\s:\\s\\(?\\d{3}\\)?\\s?-?\\d{3}-\\d{4}) # phone\n",
    "''', re.X|re.I)"
   ]
  },
  {
   "cell_type": "code",
   "execution_count": 66,
   "metadata": {},
   "outputs": [
    {
     "name": "stdout",
     "output_type": "stream",
     "text": [
      "Name: Patel, Ripal\n",
      "Email: : ripalp@codingtemple.com\n",
      "Phone:  : 555 555-5555\n",
      "\n",
      "Name: Carter, Joel\n",
      "Email: : joelc@codingtemple.com\n",
      "Phone:  : (555) 555-5555\n",
      "\n",
      "Name: Butz, Ryan\n",
      "Email: : ryanb@codingtemple.gov\n",
      "Phone:  : (555) 555-5555\n",
      "\n",
      "Name: Stanton, Brain\n",
      "Email: : brians@codingtemple.com\n",
      "Phone:  : 555-555-5555\n",
      "\n",
      "Name: Davitt, Sam\n",
      "Email: : samd@codingtemple.com\n",
      "Phone:  : (555) 555-5555\n",
      "\n"
     ]
    }
   ],
   "source": [
    "for i in info.finditer(information):\n",
    "    print(f\"Name: {i.group('name')}\\nEmail: {i.group('email')}\\nPhone: {i.group('phone')}\\n\")"
   ]
  },
  {
   "cell_type": "code",
   "execution_count": null,
   "metadata": {
    "id": "FO3hXz2Wqv_i"
   },
   "outputs": [],
   "source": []
  },
  {
   "cell_type": "markdown",
   "metadata": {
    "id": "9OdDhA0Yqv_i"
   },
   "source": [
    "##### Homework Exercise 1:\n",
    "\n",
    "Write a function using regular expressions to find the domain name in the given email addresses (and return None for the invalid email addresses)<br><b>HINT: Use '|' for either or</b>"
   ]
  },
  {
   "cell_type": "code",
   "execution_count": 67,
   "metadata": {
    "id": "fnEUb_qZqv_j"
   },
   "outputs": [],
   "source": [
    "my_emails = [\"jordanw@codingtemple.orgcom\", \"pocohontas1776@gmail.com\", \"helloworld@aol..com\", \"yourfavoriteband@g6.org\", \"@codingtemple.com\"]"
   ]
  },
  {
   "cell_type": "code",
   "execution_count": 68,
   "metadata": {
    "scrolled": true
   },
   "outputs": [
    {
     "name": "stdout",
     "output_type": "stream",
     "text": [
      "['@codingtemple.org', '@gmail.com', '@g6.org', '@codingtemple.com']\n"
     ]
    }
   ],
   "source": [
    "import re\n",
    "\n",
    "my_emails = [\"jordanw@codingtemple.orgcom\", \"pocohontas1776@gmail.com\", \"helloworld@aol..com\", \"yourfavoriteband@g6.org\", \"@codingtemple.com\"]\n",
    "\n",
    "\n",
    "#This function takes our email list and equals it to our specifications using re. If n does not equal our\n",
    "#specifications we will return it as None :D\n",
    "\n",
    "#attempt that kinda work but I hardcoded so n so the if statement will never trigger\n",
    "def good_emails(n):\n",
    "    n = re.findall(r'@[\\w\\d]+[.]com|@[\\w\\d]+[.]org', str(n))\n",
    "    return (n)\n",
    "    if n != re.findall(r'@[\\w\\d]+[.]com|@[\\w\\d]+[.]org', str(n)):\n",
    "        return None\n",
    "    \n",
    "#attempt that makes more sense but does not work\n",
    "#def good_emails(n):\n",
    "    valid = []\n",
    "    if n == re.findall(r'@[\\w\\d]+[.]com|@[\\w\\d]+[.]org', str(n)):\n",
    "        valid.append[n]\n",
    "        return valid\n",
    "    elif  n != re.findall(r'@[\\w\\d]+[.]com|@[\\w\\d]+[.]org', str(n)):\n",
    "        return None\n",
    "    \n",
    "    \n",
    "\n",
    "\n",
    "#re.findall(r'@[\\w\\d]+[.][c][o][m]|@[\\w\\d]+[.][o][r][g]', str(my_emails))\n",
    "\n",
    "print(good_emails(my_emails))"
   ]
  },
  {
   "cell_type": "markdown",
   "metadata": {
    "id": "GrUS6toGqv_i"
   },
   "source": [
    "##### Homework exercise 2: \n",
    "\n",
    "Use a regular expression to find every number in the given string"
   ]
  },
  {
   "cell_type": "code",
   "execution_count": 69,
   "metadata": {},
   "outputs": [
    {
     "data": {
      "text/plain": [
       "['1776', '6']"
      ]
     },
     "execution_count": 69,
     "metadata": {},
     "output_type": "execute_result"
    }
   ],
   "source": [
    "import re\n",
    "\n",
    "re.findall(r'[\\d]+', str(my_emails))\n"
   ]
  },
  {
   "cell_type": "markdown",
   "metadata": {
    "id": "5PaSgzNfqv_j"
   },
   "source": [
    "### Homework Exercise #3 <br>\n",
    "<p>Print each persons name and twitter handle etc., using groups, should look like:</p>"
   ]
  },
  {
   "cell_type": "code",
   "execution_count": 70,
   "metadata": {
    "id": "uCqCIM4wqv_f"
   },
   "outputs": [],
   "source": [
    "# [\n",
    "#     (First and last name,\n",
    "#      email, \n",
    "#      phone,\n",
    "#      title,\n",
    "#      Twitter handle)\n",
    "# ]"
   ]
  },
  {
   "cell_type": "code",
   "execution_count": 85,
   "metadata": {
    "id": "7kT3QdAUqv_j"
   },
   "outputs": [],
   "source": [
    "import re\n",
    "\n",
    "file = open('./names.txt', encoding='utf-8')\n",
    "\n",
    "data = file.read()\n",
    "\n",
    "file.close()\n",
    "\n",
    "information =\"\"\"\n",
    "Hawkins, Derek :derek@codingtemple.com : (555) 555-5555: Teacher, Coding Temple: @derekhawkins\n",
    "Milliken, Connor: connor@codingtemple.com: (555) 555-5554: Teacher, Coding Temple\n",
    "Johnson, Joe: joejohnson@codingtemple.com: Carter, Joel\n",
    "Österberg, Sven-Erik: governor@norrbotten.co.se: Governor, Norrbotten: @sverik\n",
    ", Tim: tim@killerrabbit.com: Enchanter, Killer Rabbit Cave\n",
    "Butz, Ryan: ryanb@codingtemple.com: (555) 555-5543: CEO, Coding Temple: @ryanbutz\n",
    "Doctor, The: doctor+companion@tardis.co.uk: Time Lord, Gallifrey\n",
    "Exampleson, Example: me@example.com: 555-555-5552: Example, Example Co.\t@example\n",
    "Obama, Barack: president.44@us.gov: 555 555-5551: President, United States of America: @potus44\n",
    "Patel, Ripal: ripalp@codingtemple.com: (555) 555-5553: Teacher, Coding Temple: @ripalp\n",
    "Vader, Darth: darth-vader@empire.gov: (555) 555-4444: Sith Lord, Galactic Empire: @darthvader\n",
    "Fernández de la Vega Sanz, María Teresa: mtfvs@spain.gov: First Deputy Prime Minister, Spanish Govt.\n",
    "\"\"\""
   ]
  },
  {
   "cell_type": "code",
   "execution_count": 86,
   "metadata": {},
   "outputs": [
    {
     "name": "stdout",
     "output_type": "stream",
     "text": [
      "[]\n"
     ]
    }
   ],
   "source": [
    "info = re.findall(r'''\n",
    "    ([\\w]+,\\s[\\w]+) # last, first\n",
    "    (:\\s[\\d\\w\\'-+.]+@[-.\\w\\d]+) # email\n",
    "    (\\s:\\s\\(?\\d{3}\\)?\\s?-?\\d{3}-\\d{4}) # phone\n",
    "    (\\s:\\s:\\s[\\w]+,\\s[w]+\\s[w]+) # teacher\n",
    "    (\\s:\\s:\\s:\\s@[\\w\\d]+) #twitter\n",
    "''', information, re.X)\n",
    "print(info)"
   ]
  },
  {
   "cell_type": "code",
   "execution_count": 87,
   "metadata": {},
   "outputs": [],
   "source": [
    "info_list = []\n",
    "for i in info:\n",
    "    obj_data = {\n",
    "        'name': i[0],\n",
    "        'email': i[1],\n",
    "        'phone': i[2],\n",
    "        'title': i[3],\n",
    "        'twitter': i[4]\n",
    "    }\n",
    "    info_list.append(obj_data)\n",
    "    \n",
    "for i in info_list:\n",
    "    print(i['name'])\n",
    "    print(i['email'])\n",
    "    print(i['phone'])\n",
    "    print(i['title'])\n",
    "    print(i['twitter'])"
   ]
  },
  {
   "cell_type": "code",
   "execution_count": null,
   "metadata": {},
   "outputs": [],
   "source": []
  },
  {
   "cell_type": "code",
   "execution_count": null,
   "metadata": {},
   "outputs": [],
   "source": []
  },
  {
   "cell_type": "code",
   "execution_count": null,
   "metadata": {},
   "outputs": [],
   "source": []
  }
 ],
 "metadata": {
  "colab": {
   "name": "Regular Expressions.ipynb",
   "provenance": []
  },
  "kernelspec": {
   "display_name": "Python 3",
   "language": "python",
   "name": "python3"
  },
  "language_info": {
   "codemirror_mode": {
    "name": "ipython",
    "version": 3
   },
   "file_extension": ".py",
   "mimetype": "text/x-python",
   "name": "python",
   "nbconvert_exporter": "python",
   "pygments_lexer": "ipython3",
   "version": "3.9.2"
  }
 },
 "nbformat": 4,
 "nbformat_minor": 1
}
